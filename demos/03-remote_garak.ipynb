{
 "cells": [
  {
   "cell_type": "code",
   "execution_count": 1,
   "id": "81176179",
   "metadata": {},
   "outputs": [],
   "source": [
    "import time\n",
    "from rich.pretty import pprint\n",
    "import logging\n",
    "\n",
    "logging.getLogger(\"httpx\").setLevel(logging.WARNING)"
   ]
  },
  {
   "cell_type": "code",
   "execution_count": 2,
   "id": "00e098d5",
   "metadata": {},
   "outputs": [],
   "source": [
    "BASE_URL = \"http://localhost:8321\"\n",
    "def create_http_client():\n",
    "    from llama_stack_client import LlamaStackClient\n",
    "    return LlamaStackClient(base_url=BASE_URL)\n",
    "\n",
    "client = create_http_client()"
   ]
  },
  {
   "cell_type": "code",
   "execution_count": 3,
   "id": "2f198d41",
   "metadata": {},
   "outputs": [
    {
     "data": {
      "text/plain": [
       "[ProviderInfo(api='inference', config={'url': 'http://localhost:8080/v1', 'max_tokens': 4096.0, 'api_token': '********', 'tls_verify': True}, health={'status': 'OK'}, provider_id='vllm', provider_type='remote::vllm'),\n",
       " ProviderInfo(api='eval', config={'base_url': 'https://b31dc9b91cf1.ngrok-free.app/v1', 'timeout': 10800.0, 'max_concurrent_jobs': 5.0, 'tls_verify': True, 'kubeflow_config': {'pipelines_endpoint': 'https://ds-pipeline-dspa-model-namespace.apps.rosa.y1m4j9o2e1n6b9l.r6mx.p3.openshiftapps.com', 'namespace': 'model-namespace', 'experiment_name': 'trustyai-garak-scans', 'base_image': 'quay.io/spandraj/trustyai-garak-provider:latest'}}, health={'status': 'Not Implemented', 'message': 'Provider does not implement health check'}, provider_id='trustyai_garak', provider_type='remote::trustyai_garak'),\n",
       " ProviderInfo(api='files', config={'storage_dir': '/Users/spandraj/.llama/distributions/trustyai-garak/files', 'metadata_store': {'type': 'sqlite', 'db_path': '/Users/spandraj/.llama/distributions/trustyai-garak/registry.db}'}}, health={'status': 'Not Implemented', 'message': 'Provider does not implement health check'}, provider_id='meta-reference-files', provider_type='inline::localfs'),\n",
       " ProviderInfo(api='telemetry', config={'service_name': '\\u200b', 'sinks': 'console,sqlite', 'sqlite_db_path': '/Users/spandraj/.llama/distributions/trustyai-garak/trace_store.db', 'otel_exporter_otlp_endpoint': None}, health={'status': 'Not Implemented', 'message': 'Provider does not implement health check'}, provider_id='meta-reference', provider_type='inline::meta-reference')]"
      ]
     },
     "execution_count": 3,
     "metadata": {},
     "output_type": "execute_result"
    }
   ],
   "source": [
    "client.providers.list()"
   ]
  },
  {
   "cell_type": "code",
   "execution_count": null,
   "id": "17e937da",
   "metadata": {},
   "outputs": [],
   "source": [
    "user_defined_probe_benchmark_id = \"custom\"\n",
    "\n",
    "client.benchmarks.register(\n",
    "    benchmark_id=user_defined_probe_benchmark_id,\n",
    "    dataset_id=\"garak\", # placeholder\n",
    "    scoring_functions=[\"garak_scoring\"], # placeholder\n",
    "    provider_benchmark_id=user_defined_probe_benchmark_id,\n",
    "    provider_id=\"trustyai_garak\",\n",
    "    metadata={\n",
    "        \"probes\": [\"latentinjection.LatentJailbreak\"],\n",
    "        \"timeout\": 60*15, # optional\n",
    "        # \"use_gpu\": True, # optional, needs GPU image as KUBEFLOW_BASE_IMAGE\n",
    "    }\n",
    ")"
   ]
  },
  {
   "cell_type": "code",
   "execution_count": null,
   "id": "3839bfa0",
   "metadata": {},
   "outputs": [
    {
     "name": "stdout",
     "output_type": "stream",
     "text": [
      "Starting job 'Job(job_id='garak-job-ea91c2e9-52c6-4f78-a672-889a5eef9c9b', status='scheduled', metadata={'created_at': '2025-08-21T04:18:57+00:00', 'kfp_run_id': '10870647-482b-4cc2-9948-ed1709932e68'})'\n"
     ]
    }
   ],
   "source": [
    "job = client.alpha.eval.run_eval(\n",
    "    benchmark_id=user_defined_probe_benchmark_id,\n",
    "    benchmark_config={\n",
    "        \"eval_candidate\": {\n",
    "            \"type\": \"model\",\n",
    "            \"model\": \"vllm/qwen2\",\n",
    "            \"sampling_params\": {\n",
    "                \"max_tokens\": 100\n",
    "            },\n",
    "        }\n",
    "     },\n",
    ")\n",
    "\n",
    "print(f\"Starting job '{job}'\")"
   ]
  },
  {
   "cell_type": "code",
   "execution_count": null,
   "id": "82c6adb9",
   "metadata": {},
   "outputs": [
    {
     "name": "stdout",
     "output_type": "stream",
     "text": [
      "Job(job_id='garak-job-ea91c2e9-52c6-4f78-a672-889a5eef9c9b', status='scheduled', metadata={'created_at': '2025-08-21T04:18:57+00:00', 'kfp_run_id': '10870647-482b-4cc2-9948-ed1709932e68'})\n",
      "Job(job_id='garak-job-ea91c2e9-52c6-4f78-a672-889a5eef9c9b', status='in_progress', metadata={'created_at': '2025-08-21T04:18:57+00:00', 'kfp_run_id': '10870647-482b-4cc2-9948-ed1709932e68'})\n",
      "Job(job_id='garak-job-ea91c2e9-52c6-4f78-a672-889a5eef9c9b', status='in_progress', metadata={'created_at': '2025-08-21T04:18:57+00:00', 'kfp_run_id': '10870647-482b-4cc2-9948-ed1709932e68'})\n",
      "Job(job_id='garak-job-ea91c2e9-52c6-4f78-a672-889a5eef9c9b', status='in_progress', metadata={'created_at': '2025-08-21T04:18:57+00:00', 'kfp_run_id': '10870647-482b-4cc2-9948-ed1709932e68'})\n",
      "Job(job_id='garak-job-ea91c2e9-52c6-4f78-a672-889a5eef9c9b', status='in_progress', metadata={'created_at': '2025-08-21T04:18:57+00:00', 'kfp_run_id': '10870647-482b-4cc2-9948-ed1709932e68'})\n",
      "Job(job_id='garak-job-ea91c2e9-52c6-4f78-a672-889a5eef9c9b', status='in_progress', metadata={'created_at': '2025-08-21T04:18:57+00:00', 'kfp_run_id': '10870647-482b-4cc2-9948-ed1709932e68'})\n",
      "Job(job_id='garak-job-ea91c2e9-52c6-4f78-a672-889a5eef9c9b', status='in_progress', metadata={'created_at': '2025-08-21T04:18:57+00:00', 'kfp_run_id': '10870647-482b-4cc2-9948-ed1709932e68'})\n",
      "Job(job_id='garak-job-ea91c2e9-52c6-4f78-a672-889a5eef9c9b', status='in_progress', metadata={'created_at': '2025-08-21T04:18:57+00:00', 'kfp_run_id': '10870647-482b-4cc2-9948-ed1709932e68'})\n",
      "Job(job_id='garak-job-ea91c2e9-52c6-4f78-a672-889a5eef9c9b', status='in_progress', metadata={'created_at': '2025-08-21T04:18:57+00:00', 'kfp_run_id': '10870647-482b-4cc2-9948-ed1709932e68'})\n",
      "Job(job_id='garak-job-ea91c2e9-52c6-4f78-a672-889a5eef9c9b', status='in_progress', metadata={'created_at': '2025-08-21T04:18:57+00:00', 'kfp_run_id': '10870647-482b-4cc2-9948-ed1709932e68'})\n",
      "Job(job_id='garak-job-ea91c2e9-52c6-4f78-a672-889a5eef9c9b', status='in_progress', metadata={'created_at': '2025-08-21T04:18:57+00:00', 'kfp_run_id': '10870647-482b-4cc2-9948-ed1709932e68'})\n",
      "Job(job_id='garak-job-ea91c2e9-52c6-4f78-a672-889a5eef9c9b', status='in_progress', metadata={'created_at': '2025-08-21T04:18:57+00:00', 'kfp_run_id': '10870647-482b-4cc2-9948-ed1709932e68'})\n",
      "Job(job_id='garak-job-ea91c2e9-52c6-4f78-a672-889a5eef9c9b', status='in_progress', metadata={'created_at': '2025-08-21T04:18:57+00:00', 'kfp_run_id': '10870647-482b-4cc2-9948-ed1709932e68'})\n",
      "Job(job_id='garak-job-ea91c2e9-52c6-4f78-a672-889a5eef9c9b', status='in_progress', metadata={'created_at': '2025-08-21T04:18:57+00:00', 'kfp_run_id': '10870647-482b-4cc2-9948-ed1709932e68'})\n",
      "Job(job_id='garak-job-ea91c2e9-52c6-4f78-a672-889a5eef9c9b', status='in_progress', metadata={'created_at': '2025-08-21T04:18:57+00:00', 'kfp_run_id': '10870647-482b-4cc2-9948-ed1709932e68'})\n",
      "Job(job_id='garak-job-ea91c2e9-52c6-4f78-a672-889a5eef9c9b', status='in_progress', metadata={'created_at': '2025-08-21T04:18:57+00:00', 'kfp_run_id': '10870647-482b-4cc2-9948-ed1709932e68'})\n",
      "Job(job_id='garak-job-ea91c2e9-52c6-4f78-a672-889a5eef9c9b', status='in_progress', metadata={'created_at': '2025-08-21T04:18:57+00:00', 'kfp_run_id': '10870647-482b-4cc2-9948-ed1709932e68'})\n",
      "Job(job_id='garak-job-ea91c2e9-52c6-4f78-a672-889a5eef9c9b', status='in_progress', metadata={'created_at': '2025-08-21T04:18:57+00:00', 'kfp_run_id': '10870647-482b-4cc2-9948-ed1709932e68'})\n",
      "Job(job_id='garak-job-ea91c2e9-52c6-4f78-a672-889a5eef9c9b', status='in_progress', metadata={'created_at': '2025-08-21T04:18:57+00:00', 'kfp_run_id': '10870647-482b-4cc2-9948-ed1709932e68'})\n",
      "Job(job_id='garak-job-ea91c2e9-52c6-4f78-a672-889a5eef9c9b', status='in_progress', metadata={'created_at': '2025-08-21T04:18:57+00:00', 'kfp_run_id': '10870647-482b-4cc2-9948-ed1709932e68'})\n",
      "Job(job_id='garak-job-ea91c2e9-52c6-4f78-a672-889a5eef9c9b', status='in_progress', metadata={'created_at': '2025-08-21T04:18:57+00:00', 'kfp_run_id': '10870647-482b-4cc2-9948-ed1709932e68'})\n",
      "Job(job_id='garak-job-ea91c2e9-52c6-4f78-a672-889a5eef9c9b', status='in_progress', metadata={'created_at': '2025-08-21T04:18:57+00:00', 'kfp_run_id': '10870647-482b-4cc2-9948-ed1709932e68'})\n",
      "Job(job_id='garak-job-ea91c2e9-52c6-4f78-a672-889a5eef9c9b', status='in_progress', metadata={'created_at': '2025-08-21T04:18:57+00:00', 'kfp_run_id': '10870647-482b-4cc2-9948-ed1709932e68'})\n",
      "Job(job_id='garak-job-ea91c2e9-52c6-4f78-a672-889a5eef9c9b', status='in_progress', metadata={'created_at': '2025-08-21T04:18:57+00:00', 'kfp_run_id': '10870647-482b-4cc2-9948-ed1709932e68'})\n",
      "Job(job_id='garak-job-ea91c2e9-52c6-4f78-a672-889a5eef9c9b', status='in_progress', metadata={'created_at': '2025-08-21T04:18:57+00:00', 'kfp_run_id': '10870647-482b-4cc2-9948-ed1709932e68'})\n",
      "Job(job_id='garak-job-ea91c2e9-52c6-4f78-a672-889a5eef9c9b', status='completed', metadata={'created_at': '2025-08-21T04:18:57+00:00', 'kfp_run_id': '10870647-482b-4cc2-9948-ed1709932e68', 'finished_at': '2025-08-21T04:27:08+00:00', 'scan.log': 'file-2296e2e983504f0a93c2b77eba53f6f3', 'scan.report.jsonl': 'file-1b89f17608ca47d98bdda5ee4ebb5d20', 'scan.hitlog.jsonl': 'file-b2d995ef2905444190f8fca20d475c30', 'scan.report.html': 'file-0e03453c53764ad09ab327cc4cb4a5a4'})\n",
      "====================================================================================================\n",
      "Job ended with status: completed\n"
     ]
    }
   ],
   "source": [
    "def get_job_status(job_id, benchmark_id):\n",
    "    return client.alpha.eval.jobs.status(job_id=job_id, benchmark_id=benchmark_id)\n",
    "\n",
    "while True:\n",
    "    job = get_job_status(job_id=job.job_id, benchmark_id=user_defined_probe_benchmark_id)\n",
    "    print(job)\n",
    "\n",
    "    if job.status in ['failed', 'completed', 'cancelled']:\n",
    "        print(\"=\"*100)\n",
    "        print(f\"Job ended with status: {job.status}\")\n",
    "        break\n",
    "\n",
    "    time.sleep(20)"
   ]
  },
  {
   "cell_type": "code",
   "execution_count": null,
   "id": "8d9b3c79",
   "metadata": {},
   "outputs": [],
   "source": [
    "job_result = client.alpha.eval.jobs.retrieve(job_id=job.job_id, benchmark_id=user_defined_probe_benchmark_id)\n",
    "scores = job_result.scores"
   ]
  },
  {
   "cell_type": "code",
   "execution_count": 8,
   "id": "52028584",
   "metadata": {},
   "outputs": [
    {
     "data": {
      "text/html": [
       "<pre style=\"white-space:pre;overflow-x:auto;line-height:normal;font-family:Menlo,'DejaVu Sans Mono',consolas,'Courier New',monospace\"><span style=\"font-weight: bold\">{</span>\n",
       "<span style=\"color: #7fbf7f; text-decoration-color: #7fbf7f\">│   </span><span style=\"color: #008000; text-decoration-color: #008000\">'latentinjection.LatentJailbreak'</span>: <span style=\"font-weight: bold\">{</span>\n",
       "<span style=\"color: #7fbf7f; text-decoration-color: #7fbf7f\">│   │   </span><span style=\"color: #008000; text-decoration-color: #008000\">'unsafe_content.ToxicCommentModel_mean'</span>: <span style=\"color: #008080; text-decoration-color: #008080; font-weight: bold\">0.039</span>,\n",
       "<span style=\"color: #7fbf7f; text-decoration-color: #7fbf7f\">│   │   </span><span style=\"color: #008000; text-decoration-color: #008000\">'base.TriggerListDetector_mean'</span>: <span style=\"color: #008080; text-decoration-color: #008080; font-weight: bold\">0.234</span>\n",
       "<span style=\"color: #7fbf7f; text-decoration-color: #7fbf7f\">│   </span><span style=\"font-weight: bold\">}</span>,\n",
       "<span style=\"color: #7fbf7f; text-decoration-color: #7fbf7f\">│   </span><span style=\"color: #008000; text-decoration-color: #008000\">'snowball.GraphConnectivity'</span>: <span style=\"font-weight: bold\">{</span><span style=\"color: #008000; text-decoration-color: #008000\">'snowball.DontStartYes_mean'</span>: <span style=\"color: #008080; text-decoration-color: #008080; font-weight: bold\">0.0</span><span style=\"font-weight: bold\">}</span>\n",
       "<span style=\"font-weight: bold\">}</span>\n",
       "</pre>\n"
      ],
      "text/plain": [
       "\u001b[1m{\u001b[0m\n",
       "\u001b[2;32m│   \u001b[0m\u001b[32m'latentinjection.LatentJailbreak'\u001b[0m: \u001b[1m{\u001b[0m\n",
       "\u001b[2;32m│   │   \u001b[0m\u001b[32m'unsafe_content.ToxicCommentModel_mean'\u001b[0m: \u001b[1;36m0.039\u001b[0m,\n",
       "\u001b[2;32m│   │   \u001b[0m\u001b[32m'base.TriggerListDetector_mean'\u001b[0m: \u001b[1;36m0.234\u001b[0m\n",
       "\u001b[2;32m│   \u001b[0m\u001b[1m}\u001b[0m,\n",
       "\u001b[2;32m│   \u001b[0m\u001b[32m'snowball.GraphConnectivity'\u001b[0m: \u001b[1m{\u001b[0m\u001b[32m'snowball.DontStartYes_mean'\u001b[0m: \u001b[1;36m0.0\u001b[0m\u001b[1m}\u001b[0m\n",
       "\u001b[1m}\u001b[0m\n"
      ]
     },
     "metadata": {},
     "output_type": "display_data"
    }
   ],
   "source": [
    "aggregated_scores = {k: v.aggregated_results for k, v in scores.items()}\n",
    "pprint(aggregated_scores)"
   ]
  },
  {
   "cell_type": "code",
   "execution_count": 9,
   "id": "c7021114",
   "metadata": {},
   "outputs": [
    {
     "data": {
      "text/html": [
       "<pre style=\"white-space:pre;overflow-x:auto;line-height:normal;font-family:Menlo,'DejaVu Sans Mono',consolas,'Courier New',monospace\"><span style=\"font-weight: bold\">{</span>\n",
       "<span style=\"color: #7fbf7f; text-decoration-color: #7fbf7f\">│   </span><span style=\"color: #008000; text-decoration-color: #008000\">'created_at'</span>: <span style=\"color: #008000; text-decoration-color: #008000\">'2025-08-21T04:18:57+00:00'</span>,\n",
       "<span style=\"color: #7fbf7f; text-decoration-color: #7fbf7f\">│   </span><span style=\"color: #008000; text-decoration-color: #008000\">'kfp_run_id'</span>: <span style=\"color: #008000; text-decoration-color: #008000\">'10870647-482b-4cc2-9948-ed1709932e68'</span>,\n",
       "<span style=\"color: #7fbf7f; text-decoration-color: #7fbf7f\">│   </span><span style=\"color: #008000; text-decoration-color: #008000\">'finished_at'</span>: <span style=\"color: #008000; text-decoration-color: #008000\">'2025-08-21T04:27:08+00:00'</span>,\n",
       "<span style=\"color: #7fbf7f; text-decoration-color: #7fbf7f\">│   </span><span style=\"color: #008000; text-decoration-color: #008000\">'scan.log'</span>: <span style=\"color: #008000; text-decoration-color: #008000\">'file-2296e2e983504f0a93c2b77eba53f6f3'</span>,\n",
       "<span style=\"color: #7fbf7f; text-decoration-color: #7fbf7f\">│   </span><span style=\"color: #008000; text-decoration-color: #008000\">'scan.report.jsonl'</span>: <span style=\"color: #008000; text-decoration-color: #008000\">'file-1b89f17608ca47d98bdda5ee4ebb5d20'</span>,\n",
       "<span style=\"color: #7fbf7f; text-decoration-color: #7fbf7f\">│   </span><span style=\"color: #008000; text-decoration-color: #008000\">'scan.hitlog.jsonl'</span>: <span style=\"color: #008000; text-decoration-color: #008000\">'file-b2d995ef2905444190f8fca20d475c30'</span>,\n",
       "<span style=\"color: #7fbf7f; text-decoration-color: #7fbf7f\">│   </span><span style=\"color: #008000; text-decoration-color: #008000\">'scan.report.html'</span>: <span style=\"color: #008000; text-decoration-color: #008000\">'file-0e03453c53764ad09ab327cc4cb4a5a4'</span>\n",
       "<span style=\"font-weight: bold\">}</span>\n",
       "</pre>\n"
      ],
      "text/plain": [
       "\u001b[1m{\u001b[0m\n",
       "\u001b[2;32m│   \u001b[0m\u001b[32m'created_at'\u001b[0m: \u001b[32m'2025-08-21T04:18:57+00:00'\u001b[0m,\n",
       "\u001b[2;32m│   \u001b[0m\u001b[32m'kfp_run_id'\u001b[0m: \u001b[32m'10870647-482b-4cc2-9948-ed1709932e68'\u001b[0m,\n",
       "\u001b[2;32m│   \u001b[0m\u001b[32m'finished_at'\u001b[0m: \u001b[32m'2025-08-21T04:27:08+00:00'\u001b[0m,\n",
       "\u001b[2;32m│   \u001b[0m\u001b[32m'scan.log'\u001b[0m: \u001b[32m'file-2296e2e983504f0a93c2b77eba53f6f3'\u001b[0m,\n",
       "\u001b[2;32m│   \u001b[0m\u001b[32m'scan.report.jsonl'\u001b[0m: \u001b[32m'file-1b89f17608ca47d98bdda5ee4ebb5d20'\u001b[0m,\n",
       "\u001b[2;32m│   \u001b[0m\u001b[32m'scan.hitlog.jsonl'\u001b[0m: \u001b[32m'file-b2d995ef2905444190f8fca20d475c30'\u001b[0m,\n",
       "\u001b[2;32m│   \u001b[0m\u001b[32m'scan.report.html'\u001b[0m: \u001b[32m'file-0e03453c53764ad09ab327cc4cb4a5a4'\u001b[0m\n",
       "\u001b[1m}\u001b[0m\n"
      ]
     },
     "metadata": {},
     "output_type": "display_data"
    }
   ],
   "source": [
    "pprint(job.metadata)"
   ]
  },
  {
   "cell_type": "code",
   "execution_count": 10,
   "id": "4ef45c74",
   "metadata": {},
   "outputs": [
    {
     "data": {
      "text/html": [
       "<pre style=\"white-space:pre;overflow-x:auto;line-height:normal;font-family:Menlo,'DejaVu Sans Mono',consolas,'Courier New',monospace\"><span style=\"color: #800080; text-decoration-color: #800080; font-weight: bold\">File</span><span style=\"font-weight: bold\">(</span>\n",
       "<span style=\"color: #7fbf7f; text-decoration-color: #7fbf7f\">│   </span><span style=\"color: #808000; text-decoration-color: #808000\">id</span>=<span style=\"color: #008000; text-decoration-color: #008000\">'file-2296e2e983504f0a93c2b77eba53f6f3'</span>,\n",
       "<span style=\"color: #7fbf7f; text-decoration-color: #7fbf7f\">│   </span><span style=\"color: #808000; text-decoration-color: #808000\">bytes</span>=<span style=\"color: #008080; text-decoration-color: #008080; font-weight: bold\">3597384</span>,\n",
       "<span style=\"color: #7fbf7f; text-decoration-color: #7fbf7f\">│   </span><span style=\"color: #808000; text-decoration-color: #808000\">created_at</span>=<span style=\"color: #008080; text-decoration-color: #008080; font-weight: bold\">1755750415</span>,\n",
       "<span style=\"color: #7fbf7f; text-decoration-color: #7fbf7f\">│   </span><span style=\"color: #808000; text-decoration-color: #808000\">expires_at</span>=<span style=\"color: #008080; text-decoration-color: #008080; font-weight: bold\">1787286415</span>,\n",
       "<span style=\"color: #7fbf7f; text-decoration-color: #7fbf7f\">│   </span><span style=\"color: #808000; text-decoration-color: #808000\">filename</span>=<span style=\"color: #008000; text-decoration-color: #008000\">'scan.log'</span>,\n",
       "<span style=\"color: #7fbf7f; text-decoration-color: #7fbf7f\">│   </span><span style=\"color: #808000; text-decoration-color: #808000\">object</span>=<span style=\"color: #008000; text-decoration-color: #008000\">'file'</span>,\n",
       "<span style=\"color: #7fbf7f; text-decoration-color: #7fbf7f\">│   </span><span style=\"color: #808000; text-decoration-color: #808000\">purpose</span>=<span style=\"color: #008000; text-decoration-color: #008000\">'assistants'</span>\n",
       "<span style=\"font-weight: bold\">)</span>\n",
       "</pre>\n"
      ],
      "text/plain": [
       "\u001b[1;35mFile\u001b[0m\u001b[1m(\u001b[0m\n",
       "\u001b[2;32m│   \u001b[0m\u001b[33mid\u001b[0m=\u001b[32m'file-2296e2e983504f0a93c2b77eba53f6f3'\u001b[0m,\n",
       "\u001b[2;32m│   \u001b[0m\u001b[33mbytes\u001b[0m=\u001b[1;36m3597384\u001b[0m,\n",
       "\u001b[2;32m│   \u001b[0m\u001b[33mcreated_at\u001b[0m=\u001b[1;36m1755750415\u001b[0m,\n",
       "\u001b[2;32m│   \u001b[0m\u001b[33mexpires_at\u001b[0m=\u001b[1;36m1787286415\u001b[0m,\n",
       "\u001b[2;32m│   \u001b[0m\u001b[33mfilename\u001b[0m=\u001b[32m'scan.log'\u001b[0m,\n",
       "\u001b[2;32m│   \u001b[0m\u001b[33mobject\u001b[0m=\u001b[32m'file'\u001b[0m,\n",
       "\u001b[2;32m│   \u001b[0m\u001b[33mpurpose\u001b[0m=\u001b[32m'assistants'\u001b[0m\n",
       "\u001b[1m)\u001b[0m\n"
      ]
     },
     "metadata": {},
     "output_type": "display_data"
    }
   ],
   "source": [
    "pprint(client.files.retrieve(job.metadata['scan.log']))"
   ]
  },
  {
   "cell_type": "code",
   "execution_count": 11,
   "id": "26866f61",
   "metadata": {},
   "outputs": [
    {
     "data": {
      "text/plain": [
       "['2025-08-21 04:26:51,796  DEBUG  response_closed.started',\n",
       " '2025-08-21 04:26:51,796  DEBUG  response_closed.complete',\n",
       " '2025-08-21 04:26:51,796  DEBUG  HTTP Response: POST https://b31dc9b91cf1.ngrok-free.app/v1/openai/v1/chat/completions \"200 OK\" Headers({\\'content-length\\': \\'888\\', \\'content-type\\': \\'application/json\\', \\'date\\': \\'Thu, 21 Aug 2025 04:26:47 GMT\\', \\'ngrok-agent-ips\\': \\'2601:19b:780:78f0:89c0:74b8:90e0:8b57\\', \\'server\\': \\'uvicorn\\', \\'x-trace-id\\': \\'973a82d0a4de3e4ec62e5383f31e9801\\'})',\n",
       " '2025-08-21 04:26:51,796  DEBUG  request_id: None',\n",
       " '2025-08-21 04:26:51,815  DEBUG  probe return: <garak.probes.snowball.GraphConnectivity object at 0x7fd6ecc48f50> with 100 attempts',\n",
       " '2025-08-21 04:26:51,815  DEBUG  harness: run detector garak.detectors.snowball.DontStartYes',\n",
       " '2025-08-21 04:26:51,820  DEBUG  harness: probe list iteration completed',\n",
       " '2025-08-21 04:26:51,820  INFO  run complete, ending',\n",
       " '2025-08-21 04:26:51,860  INFO  garak run complete in 422.53s',\n",
       " '']"
      ]
     },
     "execution_count": 11,
     "metadata": {},
     "output_type": "execute_result"
    }
   ],
   "source": [
    "# last 10 lines of scan.log\n",
    "client.files.content(job.metadata['scan.log']).split('\\n')[-10:]"
   ]
  }
 ],
 "metadata": {
  "kernelspec": {
   "display_name": "test-garak-lls-222",
   "language": "python",
   "name": "python3"
  },
  "language_info": {
   "codemirror_mode": {
    "name": "ipython",
    "version": 3
   },
   "file_extension": ".py",
   "mimetype": "text/x-python",
   "name": "python",
   "nbconvert_exporter": "python",
   "pygments_lexer": "ipython3",
   "version": "3.12.9"
  }
 },
 "nbformat": 4,
 "nbformat_minor": 5
}
