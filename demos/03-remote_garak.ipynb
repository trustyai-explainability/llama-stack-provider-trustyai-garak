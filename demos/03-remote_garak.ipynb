{
 "cells": [
  {
   "cell_type": "code",
   "execution_count": 1,
   "id": "81176179",
   "metadata": {},
   "outputs": [],
   "source": [
    "import time\n",
    "from rich.pretty import pprint\n",
    "import logging\n",
    "\n",
    "logging.getLogger(\"httpx\").setLevel(logging.WARNING)"
   ]
  },
  {
   "cell_type": "code",
   "execution_count": null,
   "id": "00e098d5",
   "metadata": {},
   "outputs": [],
   "source": [
    "BASE_URL = \"http://localhost:8321\"\n",
    "def create_http_client():\n",
    "    from llama_stack_client import LlamaStackClient\n",
    "    return LlamaStackClient(base_url=BASE_URL)\n",
    "\n",
    "client = create_http_client()"
   ]
  },
  {
   "cell_type": "code",
   "execution_count": 3,
   "id": "2f198d41",
   "metadata": {},
   "outputs": [
    {
     "data": {
      "text/plain": [
       "[ProviderInfo(api='inference', config={'url': 'http://localhost:8080/v1', 'max_tokens': 4096.0, 'api_token': '********', 'tls_verify': True}, health={'status': 'OK'}, provider_id='vllm', provider_type='remote::vllm'),\n",
       " ProviderInfo(api='eval', config={'base_url': 'https://ea5f9b2f63fd.ngrok-free.app/v1', 'timeout': 10800.0, 'max_concurrent_jobs': 5.0, 'tls_verify': True, 'kubeflow_config': {'pipelines_endpoint': 'https://ds-pipeline-dspa-model-namespace.apps.rosa.y1m4j9o2e1n6b9l.r6mx.p3.openshiftapps.com', 'namespace': 'model-namespace', 'experiment_name': 'trustyai-garak-scans', 'base_image': 'quay.io/rh-ee-spandraj/trustyai-garak-provider-dsp:cpu'}}, health={'status': 'Not Implemented', 'message': 'Provider does not implement health check'}, provider_id='trustyai_garak', provider_type='remote::trustyai_garak'),\n",
       " ProviderInfo(api='files', config={'storage_dir': '/Users/spandraj/.llama/distributions/trustyai-garak/files', 'metadata_store': {'type': 'sqlite', 'db_path': '/Users/spandraj/.llama/distributions/trustyai-garak/registry.db'}}, health={'status': 'Not Implemented', 'message': 'Provider does not implement health check'}, provider_id='meta-reference-files', provider_type='inline::localfs'),\n",
       " ProviderInfo(api='telemetry', config={'service_name': '\\u200b', 'sinks': 'console,sqlite', 'sqlite_db_path': '/Users/spandraj/.llama/distributions/trustyai-garak/trace_store.db', 'otel_exporter_otlp_endpoint': None}, health={'status': 'Not Implemented', 'message': 'Provider does not implement health check'}, provider_id='meta-reference', provider_type='inline::meta-reference')]"
      ]
     },
     "execution_count": 3,
     "metadata": {},
     "output_type": "execute_result"
    }
   ],
   "source": [
    "client.providers.list()"
   ]
  },
  {
   "cell_type": "code",
   "execution_count": 4,
   "id": "17e937da",
   "metadata": {},
   "outputs": [],
   "source": [
    "user_defined_probe_benchmark_id = \"test-benchmark\"\n",
    "\n",
    "client.benchmarks.register(\n",
    "    benchmark_id=user_defined_probe_benchmark_id,\n",
    "    dataset_id=\"garak\", # placeholder\n",
    "    scoring_functions=[\"garak_scoring\"], # placeholder\n",
    "    provider_benchmark_id=user_defined_probe_benchmark_id,\n",
    "    provider_id=\"trustyai_garak\",\n",
    "    metadata={\n",
    "        \"probes\": [\"latentinjection.LatentJailbreak\", \"grandma\"],\n",
    "        \"timeout\": 60*30, # optional\n",
    "        # \"use_gpu\": True, # optional, needs GPU image as KUBEFLOW_BASE_IMAGE\n",
    "    }\n",
    ")"
   ]
  },
  {
   "cell_type": "code",
   "execution_count": 5,
   "id": "3839bfa0",
   "metadata": {},
   "outputs": [
    {
     "name": "stdout",
     "output_type": "stream",
     "text": [
      "Starting job 'Job(job_id='garak-job-556d62b9-1226-4d3f-ae38-8009254ced5a', status='scheduled', metadata={'created_at': '2025-10-09T01:09:02+00:00', 'kfp_run_id': '5f1afd33-17d4-425e-ae91-d692be312f88'})'\n"
     ]
    }
   ],
   "source": [
    "job = client.alpha.eval.run_eval(\n",
    "    benchmark_id=user_defined_probe_benchmark_id,\n",
    "    benchmark_config={\n",
    "        \"eval_candidate\": {\n",
    "            \"type\": \"model\",\n",
    "            \"model\": \"vllm/qwen2\",\n",
    "            \"sampling_params\": {\n",
    "                \"max_tokens\": 100\n",
    "            },\n",
    "        }\n",
    "     },\n",
    ")\n",
    "\n",
    "print(f\"Starting job '{job}'\")"
   ]
  },
  {
   "cell_type": "code",
   "execution_count": null,
   "id": "82c6adb9",
   "metadata": {},
   "outputs": [],
   "source": [
    "# def get_job_status(job_id, benchmark_id):\n",
    "#     return client.eval.jobs.status(job_id=job_id, benchmark_id=benchmark_id)\n",
    "\n",
    "# while True:\n",
    "#     job = get_job_status(job_id=job.job_id, benchmark_id=user_defined_probe_benchmark_id)\n",
    "#     print(job)\n",
    "\n",
    "#     if job.status in ['failed', 'completed', 'cancelled']:\n",
    "#         print(\"=\"*100)\n",
    "#         print(f\"Job ended with status: {job.status}\")\n",
    "#         break\n",
    "\n",
    "#     time.sleep(20)"
   ]
  },
  {
   "cell_type": "code",
   "execution_count": 7,
   "id": "96e54655",
   "metadata": {},
   "outputs": [
    {
     "name": "stderr",
     "output_type": "stream",
     "text": [
      "Garak Scan Postprocessing: 100.0%|██████████████████████████████████████████████████████████| , 📊 Parsing results and uploading reports... [00:08:59]"
     ]
    },
    {
     "name": "stdout",
     "output_type": "stream",
     "text": [
      "====================================================================================================\n",
      "Job ended with status: completed ✅\n"
     ]
    },
    {
     "name": "stderr",
     "output_type": "stream",
     "text": [
      "\n"
     ]
    }
   ],
   "source": [
    "from llama_stack_provider_trustyai_garak.utils import wait_for_completion_with_progress\n",
    "\n",
    "\n",
    "final_status = wait_for_completion_with_progress(\n",
    "    client, job.job_id, user_defined_probe_benchmark_id, poll_interval=5\n",
    ")"
   ]
  },
  {
   "cell_type": "code",
   "execution_count": 8,
   "id": "8d9b3c79",
   "metadata": {},
   "outputs": [],
   "source": [
    "job_result = client.alpha.eval.jobs.retrieve(job_id=job.job_id, benchmark_id=user_defined_probe_benchmark_id)\n",
    "scores = job_result.scores"
   ]
  },
  {
   "cell_type": "code",
   "execution_count": 9,
   "id": "52028584",
   "metadata": {},
   "outputs": [
    {
     "data": {
      "text/html": [
       "<pre style=\"white-space:pre;overflow-x:auto;line-height:normal;font-family:Menlo,'DejaVu Sans Mono',consolas,'Courier New',monospace\"><span style=\"font-weight: bold\">{</span>\n",
       "<span style=\"color: #7fbf7f; text-decoration-color: #7fbf7f\">│   </span><span style=\"color: #008000; text-decoration-color: #008000\">'grandma.Slurs'</span>: <span style=\"font-weight: bold\">{</span><span style=\"color: #008000; text-decoration-color: #008000\">'unsafe_content.SlursReclaimedSlurs_mean'</span>: <span style=\"color: #008080; text-decoration-color: #008080; font-weight: bold\">0.0</span>, <span style=\"color: #008000; text-decoration-color: #008000\">'mitigation.MitigationBypass_mean'</span>: <span style=\"color: #008080; text-decoration-color: #008080; font-weight: bold\">0.75</span><span style=\"font-weight: bold\">}</span>,\n",
       "<span style=\"color: #7fbf7f; text-decoration-color: #7fbf7f\">│   </span><span style=\"color: #008000; text-decoration-color: #008000\">'grandma.Substances'</span>: <span style=\"font-weight: bold\">{</span><span style=\"color: #008000; text-decoration-color: #008000\">'mitigation.MitigationBypass_mean'</span>: <span style=\"color: #008080; text-decoration-color: #008080; font-weight: bold\">0.8</span><span style=\"font-weight: bold\">}</span>,\n",
       "<span style=\"color: #7fbf7f; text-decoration-color: #7fbf7f\">│   </span><span style=\"color: #008000; text-decoration-color: #008000\">'grandma.Win10'</span>: <span style=\"font-weight: bold\">{</span><span style=\"color: #008000; text-decoration-color: #008000\">'productkey.Win5x5_mean'</span>: <span style=\"color: #008080; text-decoration-color: #008080; font-weight: bold\">0.167</span>, <span style=\"color: #008000; text-decoration-color: #008000\">'mitigation.MitigationBypass_mean'</span>: <span style=\"color: #008080; text-decoration-color: #008080; font-weight: bold\">0.667</span><span style=\"font-weight: bold\">}</span>,\n",
       "<span style=\"color: #7fbf7f; text-decoration-color: #7fbf7f\">│   </span><span style=\"color: #008000; text-decoration-color: #008000\">'grandma.Win11'</span>: <span style=\"font-weight: bold\">{</span><span style=\"color: #008000; text-decoration-color: #008000\">'productkey.Win5x5_mean'</span>: <span style=\"color: #008080; text-decoration-color: #008080; font-weight: bold\">0.5</span>, <span style=\"color: #008000; text-decoration-color: #008000\">'mitigation.MitigationBypass_mean'</span>: <span style=\"color: #008080; text-decoration-color: #008080; font-weight: bold\">0.833</span><span style=\"font-weight: bold\">}</span>,\n",
       "<span style=\"color: #7fbf7f; text-decoration-color: #7fbf7f\">│   </span><span style=\"color: #008000; text-decoration-color: #008000\">'latentinjection.LatentJailbreak'</span>: <span style=\"font-weight: bold\">{</span>\n",
       "<span style=\"color: #7fbf7f; text-decoration-color: #7fbf7f\">│   │   </span><span style=\"color: #008000; text-decoration-color: #008000\">'unsafe_content.ToxicCommentModel_mean'</span>: <span style=\"color: #008080; text-decoration-color: #008080; font-weight: bold\">0.02</span>,\n",
       "<span style=\"color: #7fbf7f; text-decoration-color: #7fbf7f\">│   │   </span><span style=\"color: #008000; text-decoration-color: #008000\">'base.TriggerListDetector_mean'</span>: <span style=\"color: #008080; text-decoration-color: #008080; font-weight: bold\">0.211</span>\n",
       "<span style=\"color: #7fbf7f; text-decoration-color: #7fbf7f\">│   </span><span style=\"font-weight: bold\">}</span>\n",
       "<span style=\"font-weight: bold\">}</span>\n",
       "</pre>\n"
      ],
      "text/plain": [
       "\u001b[1m{\u001b[0m\n",
       "\u001b[2;32m│   \u001b[0m\u001b[32m'grandma.Slurs'\u001b[0m: \u001b[1m{\u001b[0m\u001b[32m'unsafe_content.SlursReclaimedSlurs_mean'\u001b[0m: \u001b[1;36m0.0\u001b[0m, \u001b[32m'mitigation.MitigationBypass_mean'\u001b[0m: \u001b[1;36m0.75\u001b[0m\u001b[1m}\u001b[0m,\n",
       "\u001b[2;32m│   \u001b[0m\u001b[32m'grandma.Substances'\u001b[0m: \u001b[1m{\u001b[0m\u001b[32m'mitigation.MitigationBypass_mean'\u001b[0m: \u001b[1;36m0.8\u001b[0m\u001b[1m}\u001b[0m,\n",
       "\u001b[2;32m│   \u001b[0m\u001b[32m'grandma.Win10'\u001b[0m: \u001b[1m{\u001b[0m\u001b[32m'productkey.Win5x5_mean'\u001b[0m: \u001b[1;36m0.167\u001b[0m, \u001b[32m'mitigation.MitigationBypass_mean'\u001b[0m: \u001b[1;36m0.667\u001b[0m\u001b[1m}\u001b[0m,\n",
       "\u001b[2;32m│   \u001b[0m\u001b[32m'grandma.Win11'\u001b[0m: \u001b[1m{\u001b[0m\u001b[32m'productkey.Win5x5_mean'\u001b[0m: \u001b[1;36m0.5\u001b[0m, \u001b[32m'mitigation.MitigationBypass_mean'\u001b[0m: \u001b[1;36m0.833\u001b[0m\u001b[1m}\u001b[0m,\n",
       "\u001b[2;32m│   \u001b[0m\u001b[32m'latentinjection.LatentJailbreak'\u001b[0m: \u001b[1m{\u001b[0m\n",
       "\u001b[2;32m│   │   \u001b[0m\u001b[32m'unsafe_content.ToxicCommentModel_mean'\u001b[0m: \u001b[1;36m0.02\u001b[0m,\n",
       "\u001b[2;32m│   │   \u001b[0m\u001b[32m'base.TriggerListDetector_mean'\u001b[0m: \u001b[1;36m0.211\u001b[0m\n",
       "\u001b[2;32m│   \u001b[0m\u001b[1m}\u001b[0m\n",
       "\u001b[1m}\u001b[0m\n"
      ]
     },
     "metadata": {},
     "output_type": "display_data"
    }
   ],
   "source": [
    "aggregated_scores = {k: v.aggregated_results for k, v in scores.items()}\n",
    "pprint(aggregated_scores)"
   ]
  },
  {
   "cell_type": "code",
   "execution_count": 12,
   "id": "e2e4ed41",
   "metadata": {},
   "outputs": [
    {
     "data": {
      "text/html": [
       "<pre style=\"white-space:pre;overflow-x:auto;line-height:normal;font-family:Menlo,'DejaVu Sans Mono',consolas,'Courier New',monospace\"><span style=\"color: #800080; text-decoration-color: #800080; font-weight: bold\">Job</span><span style=\"font-weight: bold\">(</span>\n",
       "<span style=\"color: #7fbf7f; text-decoration-color: #7fbf7f\">│   </span><span style=\"color: #808000; text-decoration-color: #808000\">job_id</span>=<span style=\"color: #008000; text-decoration-color: #008000\">'garak-job-556d62b9-1226-4d3f-ae38-8009254ced5a'</span>,\n",
       "<span style=\"color: #7fbf7f; text-decoration-color: #7fbf7f\">│   </span><span style=\"color: #808000; text-decoration-color: #808000\">status</span>=<span style=\"color: #008000; text-decoration-color: #008000\">'completed'</span>,\n",
       "<span style=\"color: #7fbf7f; text-decoration-color: #7fbf7f\">│   </span><span style=\"color: #808000; text-decoration-color: #808000\">metadata</span>=<span style=\"font-weight: bold\">{</span>\n",
       "<span style=\"color: #7fbf7f; text-decoration-color: #7fbf7f\">│   │   </span><span style=\"color: #008000; text-decoration-color: #008000\">'created_at'</span>: <span style=\"color: #008000; text-decoration-color: #008000\">'2025-10-09T01:09:02+00:00'</span>,\n",
       "<span style=\"color: #7fbf7f; text-decoration-color: #7fbf7f\">│   │   </span><span style=\"color: #008000; text-decoration-color: #008000\">'kfp_run_id'</span>: <span style=\"color: #008000; text-decoration-color: #008000\">'5f1afd33-17d4-425e-ae91-d692be312f88'</span>,\n",
       "<span style=\"color: #7fbf7f; text-decoration-color: #7fbf7f\">│   │   </span><span style=\"color: #008000; text-decoration-color: #008000\">'total_probes'</span>: <span style=\"color: #008080; text-decoration-color: #008080; font-weight: bold\">5</span>,\n",
       "<span style=\"color: #7fbf7f; text-decoration-color: #7fbf7f\">│   │   </span><span style=\"color: #008000; text-decoration-color: #008000\">'probe_list'</span>: <span style=\"font-weight: bold\">[</span>\n",
       "<span style=\"color: #7fbf7f; text-decoration-color: #7fbf7f\">│   │   │   </span><span style=\"color: #008000; text-decoration-color: #008000\">'grandma.Slurs'</span>,\n",
       "<span style=\"color: #7fbf7f; text-decoration-color: #7fbf7f\">│   │   │   </span><span style=\"color: #008000; text-decoration-color: #008000\">'grandma.Substances'</span>,\n",
       "<span style=\"color: #7fbf7f; text-decoration-color: #7fbf7f\">│   │   │   </span><span style=\"color: #008000; text-decoration-color: #008000\">'grandma.Win10'</span>,\n",
       "<span style=\"color: #7fbf7f; text-decoration-color: #7fbf7f\">│   │   │   </span><span style=\"color: #008000; text-decoration-color: #008000\">'grandma.Win11'</span>,\n",
       "<span style=\"color: #7fbf7f; text-decoration-color: #7fbf7f\">│   │   │   </span><span style=\"color: #008000; text-decoration-color: #008000\">'latentinjection.LatentJailbreak'</span>\n",
       "<span style=\"color: #7fbf7f; text-decoration-color: #7fbf7f\">│   │   </span><span style=\"font-weight: bold\">]</span>,\n",
       "<span style=\"color: #7fbf7f; text-decoration-color: #7fbf7f\">│   │   </span><span style=\"color: #008000; text-decoration-color: #008000\">'progress'</span>: <span style=\"font-weight: bold\">{</span>\n",
       "<span style=\"color: #7fbf7f; text-decoration-color: #7fbf7f\">│   │   │   </span><span style=\"color: #008000; text-decoration-color: #008000\">'percent'</span>: <span style=\"color: #008080; text-decoration-color: #008080; font-weight: bold\">100.0</span>,\n",
       "<span style=\"color: #7fbf7f; text-decoration-color: #7fbf7f\">│   │   │   </span><span style=\"color: #008000; text-decoration-color: #008000\">'completed_probes'</span>: <span style=\"color: #008080; text-decoration-color: #008080; font-weight: bold\">5</span>,\n",
       "<span style=\"color: #7fbf7f; text-decoration-color: #7fbf7f\">│   │   │   </span><span style=\"color: #008000; text-decoration-color: #008000\">'total_probes'</span>: <span style=\"color: #008080; text-decoration-color: #008080; font-weight: bold\">5</span>,\n",
       "<span style=\"color: #7fbf7f; text-decoration-color: #7fbf7f\">│   │   │   </span><span style=\"color: #008000; text-decoration-color: #008000\">'current_probe'</span>: <span style=\"color: #008000; text-decoration-color: #008000\">'latentinjection.LatentJailbreak'</span>,\n",
       "<span style=\"color: #7fbf7f; text-decoration-color: #7fbf7f\">│   │   │   </span><span style=\"color: #008000; text-decoration-color: #008000\">'last_result'</span>: <span style=\"font-weight: bold\">{</span>\n",
       "<span style=\"color: #7fbf7f; text-decoration-color: #7fbf7f\">│   │   │   │   </span><span style=\"color: #008000; text-decoration-color: #008000\">'probe'</span>: <span style=\"color: #008000; text-decoration-color: #008000\">'latentinjection.LatentJailbreak'</span>,\n",
       "<span style=\"color: #7fbf7f; text-decoration-color: #7fbf7f\">│   │   │   │   </span><span style=\"color: #008000; text-decoration-color: #008000\">'detector'</span>: <span style=\"color: #008000; text-decoration-color: #008000\">'base.TriggerListDetector'</span>,\n",
       "<span style=\"color: #7fbf7f; text-decoration-color: #7fbf7f\">│   │   │   │   </span><span style=\"color: #008000; text-decoration-color: #008000\">'status'</span>: <span style=\"color: #008000; text-decoration-color: #008000\">'FAIL'</span>,\n",
       "<span style=\"color: #7fbf7f; text-decoration-color: #7fbf7f\">│   │   │   │   </span><span style=\"color: #008000; text-decoration-color: #008000\">'passed'</span>: <span style=\"color: #008080; text-decoration-color: #008080; font-weight: bold\">202</span>,\n",
       "<span style=\"color: #7fbf7f; text-decoration-color: #7fbf7f\">│   │   │   │   </span><span style=\"color: #008000; text-decoration-color: #008000\">'total_attempts'</span>: <span style=\"color: #008080; text-decoration-color: #008080; font-weight: bold\">256</span>,\n",
       "<span style=\"color: #7fbf7f; text-decoration-color: #7fbf7f\">│   │   │   │   </span><span style=\"color: #008000; text-decoration-color: #008000\">'failure_rate'</span>: <span style=\"color: #008080; text-decoration-color: #008080; font-weight: bold\">21.09</span>\n",
       "<span style=\"color: #7fbf7f; text-decoration-color: #7fbf7f\">│   │   │   </span><span style=\"font-weight: bold\">}</span>,\n",
       "<span style=\"color: #7fbf7f; text-decoration-color: #7fbf7f\">│   │   │   </span><span style=\"color: #008000; text-decoration-color: #008000\">'overall_elapsed_seconds'</span>: <span style=\"color: #008080; text-decoration-color: #008080; font-weight: bold\">544</span>,\n",
       "<span style=\"color: #7fbf7f; text-decoration-color: #7fbf7f\">│   │   │   </span><span style=\"color: #008000; text-decoration-color: #008000\">'overall_eta_seconds'</span>: <span style=\"color: #008080; text-decoration-color: #008080; font-weight: bold\">0</span>\n",
       "<span style=\"color: #7fbf7f; text-decoration-color: #7fbf7f\">│   │   </span><span style=\"font-weight: bold\">}</span>,\n",
       "<span style=\"color: #7fbf7f; text-decoration-color: #7fbf7f\">│   │   </span><span style=\"color: #008000; text-decoration-color: #008000\">'duration_seconds'</span>: <span style=\"color: #008080; text-decoration-color: #008080; font-weight: bold\">409.09</span>,\n",
       "<span style=\"color: #7fbf7f; text-decoration-color: #7fbf7f\">│   │   </span><span style=\"color: #008000; text-decoration-color: #008000\">'finished_at'</span>: <span style=\"color: #008000; text-decoration-color: #008000\">'2025-10-09T01:18:01+00:00'</span>,\n",
       "<span style=\"color: #7fbf7f; text-decoration-color: #7fbf7f\">│   │   </span><span style=\"color: #008000; text-decoration-color: #008000\">'scan.hitlog.jsonl'</span>: <span style=\"color: #008000; text-decoration-color: #008000\">'file-e132c250c4a446fd9b1f511abee0965f'</span>,\n",
       "<span style=\"color: #7fbf7f; text-decoration-color: #7fbf7f\">│   │   </span><span style=\"color: #008000; text-decoration-color: #008000\">'scan.log'</span>: <span style=\"color: #008000; text-decoration-color: #008000\">'file-06b3ec1b4cd341789113b3b45bbce50f'</span>,\n",
       "<span style=\"color: #7fbf7f; text-decoration-color: #7fbf7f\">│   │   </span><span style=\"color: #008000; text-decoration-color: #008000\">'scan.report.html'</span>: <span style=\"color: #008000; text-decoration-color: #008000\">'file-322f884e947e418997bfd769c0137ff3'</span>,\n",
       "<span style=\"color: #7fbf7f; text-decoration-color: #7fbf7f\">│   │   </span><span style=\"color: #008000; text-decoration-color: #008000\">'scan.report.jsonl'</span>: <span style=\"color: #008000; text-decoration-color: #008000\">'file-83b40e6dc08b4ef8b982d0809c684c99'</span>,\n",
       "<span style=\"color: #7fbf7f; text-decoration-color: #7fbf7f\">│   │   </span><span style=\"color: #008000; text-decoration-color: #008000\">'scan_result.json'</span>: <span style=\"color: #008000; text-decoration-color: #008000\">'file-f3f317b54704466593f8541c99df4a66'</span>\n",
       "<span style=\"color: #7fbf7f; text-decoration-color: #7fbf7f\">│   </span><span style=\"font-weight: bold\">}</span>\n",
       "<span style=\"font-weight: bold\">)</span>\n",
       "</pre>\n"
      ],
      "text/plain": [
       "\u001b[1;35mJob\u001b[0m\u001b[1m(\u001b[0m\n",
       "\u001b[2;32m│   \u001b[0m\u001b[33mjob_id\u001b[0m=\u001b[32m'garak-job-556d62b9-1226-4d3f-ae38-8009254ced5a'\u001b[0m,\n",
       "\u001b[2;32m│   \u001b[0m\u001b[33mstatus\u001b[0m=\u001b[32m'completed'\u001b[0m,\n",
       "\u001b[2;32m│   \u001b[0m\u001b[33mmetadata\u001b[0m=\u001b[1m{\u001b[0m\n",
       "\u001b[2;32m│   │   \u001b[0m\u001b[32m'created_at'\u001b[0m: \u001b[32m'2025-10-09T01:09:02+00:00'\u001b[0m,\n",
       "\u001b[2;32m│   │   \u001b[0m\u001b[32m'kfp_run_id'\u001b[0m: \u001b[32m'5f1afd33-17d4-425e-ae91-d692be312f88'\u001b[0m,\n",
       "\u001b[2;32m│   │   \u001b[0m\u001b[32m'total_probes'\u001b[0m: \u001b[1;36m5\u001b[0m,\n",
       "\u001b[2;32m│   │   \u001b[0m\u001b[32m'probe_list'\u001b[0m: \u001b[1m[\u001b[0m\n",
       "\u001b[2;32m│   │   │   \u001b[0m\u001b[32m'grandma.Slurs'\u001b[0m,\n",
       "\u001b[2;32m│   │   │   \u001b[0m\u001b[32m'grandma.Substances'\u001b[0m,\n",
       "\u001b[2;32m│   │   │   \u001b[0m\u001b[32m'grandma.Win10'\u001b[0m,\n",
       "\u001b[2;32m│   │   │   \u001b[0m\u001b[32m'grandma.Win11'\u001b[0m,\n",
       "\u001b[2;32m│   │   │   \u001b[0m\u001b[32m'latentinjection.LatentJailbreak'\u001b[0m\n",
       "\u001b[2;32m│   │   \u001b[0m\u001b[1m]\u001b[0m,\n",
       "\u001b[2;32m│   │   \u001b[0m\u001b[32m'progress'\u001b[0m: \u001b[1m{\u001b[0m\n",
       "\u001b[2;32m│   │   │   \u001b[0m\u001b[32m'percent'\u001b[0m: \u001b[1;36m100.0\u001b[0m,\n",
       "\u001b[2;32m│   │   │   \u001b[0m\u001b[32m'completed_probes'\u001b[0m: \u001b[1;36m5\u001b[0m,\n",
       "\u001b[2;32m│   │   │   \u001b[0m\u001b[32m'total_probes'\u001b[0m: \u001b[1;36m5\u001b[0m,\n",
       "\u001b[2;32m│   │   │   \u001b[0m\u001b[32m'current_probe'\u001b[0m: \u001b[32m'latentinjection.LatentJailbreak'\u001b[0m,\n",
       "\u001b[2;32m│   │   │   \u001b[0m\u001b[32m'last_result'\u001b[0m: \u001b[1m{\u001b[0m\n",
       "\u001b[2;32m│   │   │   │   \u001b[0m\u001b[32m'probe'\u001b[0m: \u001b[32m'latentinjection.LatentJailbreak'\u001b[0m,\n",
       "\u001b[2;32m│   │   │   │   \u001b[0m\u001b[32m'detector'\u001b[0m: \u001b[32m'base.TriggerListDetector'\u001b[0m,\n",
       "\u001b[2;32m│   │   │   │   \u001b[0m\u001b[32m'status'\u001b[0m: \u001b[32m'FAIL'\u001b[0m,\n",
       "\u001b[2;32m│   │   │   │   \u001b[0m\u001b[32m'passed'\u001b[0m: \u001b[1;36m202\u001b[0m,\n",
       "\u001b[2;32m│   │   │   │   \u001b[0m\u001b[32m'total_attempts'\u001b[0m: \u001b[1;36m256\u001b[0m,\n",
       "\u001b[2;32m│   │   │   │   \u001b[0m\u001b[32m'failure_rate'\u001b[0m: \u001b[1;36m21.09\u001b[0m\n",
       "\u001b[2;32m│   │   │   \u001b[0m\u001b[1m}\u001b[0m,\n",
       "\u001b[2;32m│   │   │   \u001b[0m\u001b[32m'overall_elapsed_seconds'\u001b[0m: \u001b[1;36m544\u001b[0m,\n",
       "\u001b[2;32m│   │   │   \u001b[0m\u001b[32m'overall_eta_seconds'\u001b[0m: \u001b[1;36m0\u001b[0m\n",
       "\u001b[2;32m│   │   \u001b[0m\u001b[1m}\u001b[0m,\n",
       "\u001b[2;32m│   │   \u001b[0m\u001b[32m'duration_seconds'\u001b[0m: \u001b[1;36m409.09\u001b[0m,\n",
       "\u001b[2;32m│   │   \u001b[0m\u001b[32m'finished_at'\u001b[0m: \u001b[32m'2025-10-09T01:18:01+00:00'\u001b[0m,\n",
       "\u001b[2;32m│   │   \u001b[0m\u001b[32m'scan.hitlog.jsonl'\u001b[0m: \u001b[32m'file-e132c250c4a446fd9b1f511abee0965f'\u001b[0m,\n",
       "\u001b[2;32m│   │   \u001b[0m\u001b[32m'scan.log'\u001b[0m: \u001b[32m'file-06b3ec1b4cd341789113b3b45bbce50f'\u001b[0m,\n",
       "\u001b[2;32m│   │   \u001b[0m\u001b[32m'scan.report.html'\u001b[0m: \u001b[32m'file-322f884e947e418997bfd769c0137ff3'\u001b[0m,\n",
       "\u001b[2;32m│   │   \u001b[0m\u001b[32m'scan.report.jsonl'\u001b[0m: \u001b[32m'file-83b40e6dc08b4ef8b982d0809c684c99'\u001b[0m,\n",
       "\u001b[2;32m│   │   \u001b[0m\u001b[32m'scan_result.json'\u001b[0m: \u001b[32m'file-f3f317b54704466593f8541c99df4a66'\u001b[0m\n",
       "\u001b[2;32m│   \u001b[0m\u001b[1m}\u001b[0m\n",
       "\u001b[1m)\u001b[0m\n"
      ]
     },
     "metadata": {},
     "output_type": "display_data"
    }
   ],
   "source": [
    "pprint(final_status)"
   ]
  },
  {
   "cell_type": "code",
   "execution_count": 13,
   "id": "4ef45c74",
   "metadata": {},
   "outputs": [
    {
     "data": {
      "text/html": [
       "<pre style=\"white-space:pre;overflow-x:auto;line-height:normal;font-family:Menlo,'DejaVu Sans Mono',consolas,'Courier New',monospace\"><span style=\"color: #800080; text-decoration-color: #800080; font-weight: bold\">File</span><span style=\"font-weight: bold\">(</span>\n",
       "<span style=\"color: #7fbf7f; text-decoration-color: #7fbf7f\">│   </span><span style=\"color: #808000; text-decoration-color: #808000\">id</span>=<span style=\"color: #008000; text-decoration-color: #008000\">'file-06b3ec1b4cd341789113b3b45bbce50f'</span>,\n",
       "<span style=\"color: #7fbf7f; text-decoration-color: #7fbf7f\">│   </span><span style=\"color: #808000; text-decoration-color: #808000\">bytes</span>=<span style=\"color: #008080; text-decoration-color: #008080; font-weight: bold\">3422621</span>,\n",
       "<span style=\"color: #7fbf7f; text-decoration-color: #7fbf7f\">│   </span><span style=\"color: #808000; text-decoration-color: #808000\">created_at</span>=<span style=\"color: #008080; text-decoration-color: #008080; font-weight: bold\">1759972627</span>,\n",
       "<span style=\"color: #7fbf7f; text-decoration-color: #7fbf7f\">│   </span><span style=\"color: #808000; text-decoration-color: #808000\">expires_at</span>=<span style=\"color: #008080; text-decoration-color: #008080; font-weight: bold\">1791508627</span>,\n",
       "<span style=\"color: #7fbf7f; text-decoration-color: #7fbf7f\">│   </span><span style=\"color: #808000; text-decoration-color: #808000\">filename</span>=<span style=\"color: #008000; text-decoration-color: #008000\">'scan.log'</span>,\n",
       "<span style=\"color: #7fbf7f; text-decoration-color: #7fbf7f\">│   </span><span style=\"color: #808000; text-decoration-color: #808000\">object</span>=<span style=\"color: #008000; text-decoration-color: #008000\">'file'</span>,\n",
       "<span style=\"color: #7fbf7f; text-decoration-color: #7fbf7f\">│   </span><span style=\"color: #808000; text-decoration-color: #808000\">purpose</span>=<span style=\"color: #008000; text-decoration-color: #008000\">'assistants'</span>\n",
       "<span style=\"font-weight: bold\">)</span>\n",
       "</pre>\n"
      ],
      "text/plain": [
       "\u001b[1;35mFile\u001b[0m\u001b[1m(\u001b[0m\n",
       "\u001b[2;32m│   \u001b[0m\u001b[33mid\u001b[0m=\u001b[32m'file-06b3ec1b4cd341789113b3b45bbce50f'\u001b[0m,\n",
       "\u001b[2;32m│   \u001b[0m\u001b[33mbytes\u001b[0m=\u001b[1;36m3422621\u001b[0m,\n",
       "\u001b[2;32m│   \u001b[0m\u001b[33mcreated_at\u001b[0m=\u001b[1;36m1759972627\u001b[0m,\n",
       "\u001b[2;32m│   \u001b[0m\u001b[33mexpires_at\u001b[0m=\u001b[1;36m1791508627\u001b[0m,\n",
       "\u001b[2;32m│   \u001b[0m\u001b[33mfilename\u001b[0m=\u001b[32m'scan.log'\u001b[0m,\n",
       "\u001b[2;32m│   \u001b[0m\u001b[33mobject\u001b[0m=\u001b[32m'file'\u001b[0m,\n",
       "\u001b[2;32m│   \u001b[0m\u001b[33mpurpose\u001b[0m=\u001b[32m'assistants'\u001b[0m\n",
       "\u001b[1m)\u001b[0m\n"
      ]
     },
     "metadata": {},
     "output_type": "display_data"
    }
   ],
   "source": [
    "pprint(client.files.retrieve(final_status.metadata['scan.log']))"
   ]
  },
  {
   "cell_type": "code",
   "execution_count": 14,
   "id": "26866f61",
   "metadata": {},
   "outputs": [
    {
     "data": {
      "text/plain": [
       "['2025-10-09 01:16:52,059  DEBUG  response_closed.complete',\n",
       " '2025-10-09 01:16:52,059  DEBUG  HTTP Response: POST https://ea5f9b2f63fd.ngrok-free.app/v1/openai/v1/chat/completions \"200 OK\" Headers({\\'content-length\\': \\'1413\\', \\'content-type\\': \\'application/json\\', \\'date\\': \\'Thu, 09 Oct 2025 01:16:50 GMT\\', \\'ngrok-agent-ips\\': \\'2601:19b:780:6680:a8c2:559e:f5c6:f4e3\\', \\'server\\': \\'uvicorn\\', \\'x-trace-id\\': \\'9e3adc51b17e40cc6b672eb25c03e1f2\\'})',\n",
       " '2025-10-09 01:16:52,059  DEBUG  request_id: None',\n",
       " '2025-10-09 01:16:52,088  DEBUG  probe return: <garak.probes.latentinjection.LatentJailbreak object at 0x7fe2db96f230> with 256 attempts',\n",
       " '2025-10-09 01:16:52,089  DEBUG  harness: run detector garak.detectors.unsafe_content.ToxicCommentModel',\n",
       " '2025-10-09 01:17:05,892  DEBUG  harness: run detector garak.detectors.base.TriggerListDetector',\n",
       " '2025-10-09 01:17:05,903  DEBUG  harness: probe list iteration completed',\n",
       " '2025-10-09 01:17:05,904  INFO  run complete, ending',\n",
       " '2025-10-09 01:17:05,942  INFO  garak run complete in 409.09s',\n",
       " '']"
      ]
     },
     "execution_count": 14,
     "metadata": {},
     "output_type": "execute_result"
    }
   ],
   "source": [
    "# last 10 lines of scan.log\n",
    "client.files.content(final_status.metadata['scan.log']).split('\\n')[-10:]"
   ]
  },
  {
   "cell_type": "code",
   "execution_count": null,
   "id": "00b70006",
   "metadata": {},
   "outputs": [],
   "source": []
  }
 ],
 "metadata": {
  "kernelspec": {
   "display_name": "test-garak-lls-222",
   "language": "python",
   "name": "python3"
  },
  "language_info": {
   "codemirror_mode": {
    "name": "ipython",
    "version": 3
   },
   "file_extension": ".py",
   "mimetype": "text/x-python",
   "name": "python",
   "nbconvert_exporter": "python",
   "pygments_lexer": "ipython3",
   "version": "3.12.9"
  }
 },
 "nbformat": 4,
 "nbformat_minor": 5
}
