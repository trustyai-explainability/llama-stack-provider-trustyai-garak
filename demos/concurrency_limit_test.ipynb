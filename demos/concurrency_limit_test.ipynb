{
 "cells": [
  {
   "cell_type": "code",
   "execution_count": 1,
   "id": "70bbdaa0",
   "metadata": {},
   "outputs": [],
   "source": [
    "import time\n",
    "import pprint\n",
    "import requests\n",
    "import json"
   ]
  },
  {
   "cell_type": "code",
   "execution_count": 2,
   "id": "896ad143",
   "metadata": {},
   "outputs": [],
   "source": [
    "BASE_URL = \"http://localhost:8321\"\n",
    "\n",
    "def create_http_client():\n",
    "    from llama_stack_client import LlamaStackClient\n",
    "    return LlamaStackClient(base_url=BASE_URL)\n",
    "\n",
    "client = create_http_client()"
   ]
  },
  {
   "cell_type": "code",
   "execution_count": 3,
   "id": "16c57344",
   "metadata": {},
   "outputs": [],
   "source": [
    "client.benchmarks.register(\n",
    "    benchmark_id=\"trustyai_garak::quick\",\n",
    "    dataset_id=\"trustyai_garak::quick\",\n",
    "    scoring_functions=[\"string\"],\n",
    "    provider_benchmark_id=\"string\",\n",
    "    provider_id=\"trustyai_garak\",\n",
    ")"
   ]
  },
  {
   "cell_type": "code",
   "execution_count": 4,
   "id": "85355f9e",
   "metadata": {},
   "outputs": [],
   "source": [
    "client.benchmarks.register(\n",
    "    benchmark_id=\"trustyai_garak::custom\",\n",
    "    dataset_id=\"trustyai_garak::custom\",\n",
    "    scoring_functions=[\"string\"],\n",
    "    provider_benchmark_id=\"string\",\n",
    "    provider_id=\"trustyai_garak\",\n",
    "    metadata={\n",
    "        \"probes\": [\"promptinject.HijackHateHumans\"],\n",
    "        \"timeout\": 60*10\n",
    "    }\n",
    ")"
   ]
  },
  {
   "cell_type": "code",
   "execution_count": 5,
   "id": "a438cfcf",
   "metadata": {},
   "outputs": [
    {
     "name": "stdout",
     "output_type": "stream",
     "text": [
      "(\"Available Models: [Model(identifier='qwen2', metadata={}, \"\n",
      " \"api_model_type='llm', provider_id='vllm', provider_resource_id='qwen2', \"\n",
      " \"type='model', model_type='llm')]\")\n"
     ]
    }
   ],
   "source": [
    "pprint.pprint(f\"Available Models: {client.models.list()}\")"
   ]
  },
  {
   "cell_type": "code",
   "execution_count": null,
   "id": "c7e10653",
   "metadata": {},
   "outputs": [
    {
     "name": "stdout",
     "output_type": "stream",
     "text": [
      "Starting job 'Job(job_id='garak-job-b0cd0656-c1aa-43eb-9243-ef025cbf6a05', status='scheduled', metadata={'created_at': '2025-07-22T14:23:09.395551'})'\n"
     ]
    }
   ],
   "source": [
    "job1 = client.alpha.eval.run_eval(\n",
    "    benchmark_id=\"trustyai_garak::quick\",\n",
    "    benchmark_config={\n",
    "        \"eval_candidate\": {\n",
    "            \"type\": \"model\",\n",
    "            \"model\": \"qwen2\",\n",
    "            \"provider_id\": \"trustyai_garak\",\n",
    "            \"sampling_params\": {},\n",
    "        }\n",
    "     },\n",
    ")\n",
    "\n",
    "print(f\"Starting job '{job1}'\")"
   ]
  },
  {
   "cell_type": "code",
   "execution_count": null,
   "id": "2f6e12cb",
   "metadata": {},
   "outputs": [
    {
     "name": "stdout",
     "output_type": "stream",
     "text": [
      "Starting job 'Job(job_id='garak-job-0ede4eeb-b694-4852-bc0f-e45a28d68006', status='scheduled', metadata={'created_at': '2025-07-22T14:23:09.407118'})'\n"
     ]
    }
   ],
   "source": [
    "job2 = client.alpha.eval.run_eval(\n",
    "    benchmark_id=\"trustyai_garak::custom\",\n",
    "    benchmark_config={\n",
    "        \"eval_candidate\": {\n",
    "            \"type\": \"model\",\n",
    "            \"model\": \"qwen2\",\n",
    "            \"provider_id\": \"trustyai_garak\",\n",
    "            \"sampling_params\": {\n",
    "                \"max_tokens\": 100\n",
    "            },\n",
    "        }\n",
    "     },\n",
    ")\n",
    "\n",
    "print(f\"Starting job '{job2}'\")"
   ]
  },
  {
   "cell_type": "code",
   "execution_count": null,
   "id": "c23d790a",
   "metadata": {},
   "outputs": [
    {
     "name": "stdout",
     "output_type": "stream",
     "text": [
      "Starting job 'Job(job_id='garak-job-dd2b18f5-6f3b-486c-9ccd-2bb6cb9a5cf5', status='scheduled', metadata={'created_at': '2025-07-22T14:23:09.417178'})'\n"
     ]
    }
   ],
   "source": [
    "job3 = client.alpha.eval.run_eval(\n",
    "    benchmark_id=\"trustyai_garak::quick\",\n",
    "    benchmark_config={\n",
    "        \"eval_candidate\": {\n",
    "            \"type\": \"model\",\n",
    "            \"model\": \"qwen2\",\n",
    "            \"provider_id\": \"trustyai_garak\",\n",
    "            \"sampling_params\": {},\n",
    "        }\n",
    "     },\n",
    ")\n",
    "\n",
    "print(f\"Starting job '{job3}'\")"
   ]
  },
  {
   "cell_type": "code",
   "execution_count": null,
   "id": "7a3803bb",
   "metadata": {},
   "outputs": [
    {
     "name": "stdout",
     "output_type": "stream",
     "text": [
      "Starting job 'Job(job_id='garak-job-ce61b90c-430d-47b5-9f82-c690163b8821', status='scheduled', metadata={'created_at': '2025-07-22T14:23:09.428215'})'\n"
     ]
    }
   ],
   "source": [
    "job4 = client.alpha.eval.run_eval(\n",
    "    benchmark_id=\"trustyai_garak::quick\",\n",
    "    benchmark_config={\n",
    "        \"eval_candidate\": {\n",
    "            \"type\": \"model\",\n",
    "            \"model\": \"qwen2\",\n",
    "            \"provider_id\": \"trustyai_garak\",\n",
    "            \"sampling_params\": {},\n",
    "        }\n",
    "     },\n",
    ")\n",
    "\n",
    "print(f\"Starting job '{job4}'\")"
   ]
  },
  {
   "cell_type": "code",
   "execution_count": null,
   "id": "c2af2c31",
   "metadata": {},
   "outputs": [
    {
     "name": "stdout",
     "output_type": "stream",
     "text": [
      "Starting job 'Job(job_id='garak-job-fbb63105-83b6-4a9c-80ff-7ec6cd23d984', status='scheduled', metadata={'created_at': '2025-07-22T14:23:09.439266'})'\n"
     ]
    }
   ],
   "source": [
    "job5 = client.alpha.eval.run_eval(\n",
    "    benchmark_id=\"trustyai_garak::custom\",\n",
    "    benchmark_config={\n",
    "        \"eval_candidate\": {\n",
    "            \"type\": \"model\",\n",
    "            \"model\": \"qwen2\",\n",
    "            \"provider_id\": \"trustyai_garak\",\n",
    "            \"sampling_params\": {\n",
    "                \"max_tokens\": 100\n",
    "            },\n",
    "        }\n",
    "     },\n",
    ")\n",
    "\n",
    "print(f\"Starting job '{job5}'\")"
   ]
  },
  {
   "cell_type": "code",
   "execution_count": null,
   "id": "d99c2626",
   "metadata": {},
   "outputs": [
    {
     "name": "stdout",
     "output_type": "stream",
     "text": [
      "Starting job 'Job(job_id='garak-job-fc4965bb-1372-443a-a5bd-c85eda9ec937', status='scheduled', metadata={'created_at': '2025-07-22T14:23:09.539275'})'\n"
     ]
    }
   ],
   "source": [
    "job6 = client.alpha.eval.run_eval(\n",
    "    benchmark_id=\"trustyai_garak::custom\",\n",
    "    benchmark_config={\n",
    "        \"eval_candidate\": {\n",
    "            \"type\": \"model\",\n",
    "            \"model\": \"qwen2\",\n",
    "            \"provider_id\": \"trustyai_garak\",\n",
    "            \"sampling_params\": {\n",
    "                \"max_tokens\": 100\n",
    "            },\n",
    "        }\n",
    "     },\n",
    ")\n",
    "\n",
    "print(f\"Starting job '{job6}'\")"
   ]
  },
  {
   "cell_type": "code",
   "execution_count": null,
   "id": "dfc1d091",
   "metadata": {},
   "outputs": [
    {
     "name": "stdout",
     "output_type": "stream",
     "text": [
      "Job(job_id='garak-job-fc4965bb-1372-443a-a5bd-c85eda9ec937', status='scheduled', metadata={'created_at': '2025-07-22T14:23:09.539275', 'running_jobs': '5', 'max_concurrent_jobs': '5'})\n",
      "Job(job_id='garak-job-fc4965bb-1372-443a-a5bd-c85eda9ec937', status='scheduled', metadata={'created_at': '2025-07-22T14:23:09.539275', 'running_jobs': '5', 'max_concurrent_jobs': '5'})\n",
      "Job(job_id='garak-job-fc4965bb-1372-443a-a5bd-c85eda9ec937', status='scheduled', metadata={'created_at': '2025-07-22T14:23:09.539275', 'running_jobs': '5', 'max_concurrent_jobs': '5'})\n",
      "Job(job_id='garak-job-fc4965bb-1372-443a-a5bd-c85eda9ec937', status='scheduled', metadata={'created_at': '2025-07-22T14:23:09.539275', 'running_jobs': '5', 'max_concurrent_jobs': '5'})\n",
      "Job(job_id='garak-job-fc4965bb-1372-443a-a5bd-c85eda9ec937', status='scheduled', metadata={'created_at': '2025-07-22T14:23:09.539275', 'running_jobs': '5', 'max_concurrent_jobs': '5'})\n",
      "Job(job_id='garak-job-fc4965bb-1372-443a-a5bd-c85eda9ec937', status='scheduled', metadata={'created_at': '2025-07-22T14:23:09.539275', 'running_jobs': '5', 'max_concurrent_jobs': '5'})\n",
      "Job(job_id='garak-job-fc4965bb-1372-443a-a5bd-c85eda9ec937', status='scheduled', metadata={'created_at': '2025-07-22T14:23:09.539275', 'running_jobs': '5', 'max_concurrent_jobs': '5'})\n",
      "Job(job_id='garak-job-fc4965bb-1372-443a-a5bd-c85eda9ec937', status='scheduled', metadata={'created_at': '2025-07-22T14:23:09.539275', 'running_jobs': '5', 'max_concurrent_jobs': '5'})\n",
      "Job(job_id='garak-job-fc4965bb-1372-443a-a5bd-c85eda9ec937', status='scheduled', metadata={'created_at': '2025-07-22T14:23:09.539275', 'running_jobs': '5', 'max_concurrent_jobs': '5'})\n",
      "Job(job_id='garak-job-fc4965bb-1372-443a-a5bd-c85eda9ec937', status='in_progress', metadata={'created_at': '2025-07-22T14:23:09.539275', 'started_at': '2025-07-22T14:26:07.420023', 'process_id': '85099', 'running_jobs': '4', 'max_concurrent_jobs': '5'})\n",
      "Job(job_id='garak-job-fc4965bb-1372-443a-a5bd-c85eda9ec937', status='in_progress', metadata={'created_at': '2025-07-22T14:23:09.539275', 'started_at': '2025-07-22T14:26:07.420023', 'process_id': '85099', 'running_jobs': '4', 'max_concurrent_jobs': '5'})\n",
      "Job(job_id='garak-job-fc4965bb-1372-443a-a5bd-c85eda9ec937', status='in_progress', metadata={'created_at': '2025-07-22T14:23:09.539275', 'started_at': '2025-07-22T14:26:07.420023', 'process_id': '85099', 'running_jobs': '4', 'max_concurrent_jobs': '5'})\n",
      "Job(job_id='garak-job-fc4965bb-1372-443a-a5bd-c85eda9ec937', status='in_progress', metadata={'created_at': '2025-07-22T14:23:09.539275', 'started_at': '2025-07-22T14:26:07.420023', 'process_id': '85099', 'running_jobs': '2', 'max_concurrent_jobs': '5'})\n",
      "Job(job_id='garak-job-fc4965bb-1372-443a-a5bd-c85eda9ec937', status='in_progress', metadata={'created_at': '2025-07-22T14:23:09.539275', 'started_at': '2025-07-22T14:26:07.420023', 'process_id': '85099', 'running_jobs': '1', 'max_concurrent_jobs': '5'})\n",
      "Job(job_id='garak-job-fc4965bb-1372-443a-a5bd-c85eda9ec937', status='in_progress', metadata={'created_at': '2025-07-22T14:23:09.539275', 'started_at': '2025-07-22T14:26:07.420023', 'process_id': '85099', 'running_jobs': '1', 'max_concurrent_jobs': '5'})\n",
      "Job(job_id='garak-job-fc4965bb-1372-443a-a5bd-c85eda9ec937', status='in_progress', metadata={'created_at': '2025-07-22T14:23:09.539275', 'started_at': '2025-07-22T14:26:07.420023', 'process_id': '85099', 'running_jobs': '1', 'max_concurrent_jobs': '5'})\n",
      "Job(job_id='garak-job-fc4965bb-1372-443a-a5bd-c85eda9ec937', status='in_progress', metadata={'created_at': '2025-07-22T14:23:09.539275', 'started_at': '2025-07-22T14:26:07.420023', 'process_id': '85099', 'running_jobs': '1', 'max_concurrent_jobs': '5'})\n",
      "Job(job_id='garak-job-fc4965bb-1372-443a-a5bd-c85eda9ec937', status='completed', metadata={'created_at': '2025-07-22T14:23:09.539275', 'started_at': '2025-07-22T14:26:07.420023', 'process_id': '85099', 'scan_report_file_id': 'file-fecc04ea317e48f595a9e264bd6dc080', 'scan_log_file_id': 'file-99e040243a5d448cac9d61d3df4ff501', 'scan_hitlog_file_id': 'file-306da44fa8c84276bf26602f5f1fe4e9', 'scan_report_html_file_id': 'file-33c0b63caa3f440c91c294334c19ae27', 'completed_at': '2025-07-22T14:28:45.073263', 'running_jobs': '0', 'max_concurrent_jobs': '5'})\n",
      "Job ended with status: completed\n"
     ]
    }
   ],
   "source": [
    "def get_job_status(job_id, benchmark_id):\n",
    "    return client.alpha.eval.jobs.status(job_id=job_id, benchmark_id=benchmark_id)\n",
    "\n",
    "while True:\n",
    "    job = get_job_status(job_id=job6.job_id, benchmark_id=\"trustyai_garak::custom\")\n",
    "    print(job)\n",
    "\n",
    "    if job.status in ['failed', 'completed', 'cancelled']:\n",
    "        print(f\"Job ended with status: {job.status}\")\n",
    "        break\n",
    "\n",
    "    time.sleep(20)\n",
    "\n",
    "# 6th job is `scheduled` till one of the previous jobs completes :-)"
   ]
  },
  {
   "cell_type": "code",
   "execution_count": null,
   "id": "93b904c5",
   "metadata": {},
   "outputs": [],
   "source": []
  }
 ],
 "metadata": {
  "kernelspec": {
   "display_name": "captum-env",
   "language": "python",
   "name": "python3"
  },
  "language_info": {
   "codemirror_mode": {
    "name": "ipython",
    "version": 3
   },
   "file_extension": ".py",
   "mimetype": "text/x-python",
   "name": "python",
   "nbconvert_exporter": "python",
   "pygments_lexer": "ipython3",
   "version": "3.11.11"
  }
 },
 "nbformat": 4,
 "nbformat_minor": 5
}
